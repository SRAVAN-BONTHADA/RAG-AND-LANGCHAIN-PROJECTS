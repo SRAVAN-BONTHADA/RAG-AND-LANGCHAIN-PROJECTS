{
  "nbformat": 4,
  "nbformat_minor": 0,
  "metadata": {
    "colab": {
      "provenance": []
    },
    "kernelspec": {
      "name": "python3",
      "display_name": "Python 3"
    },
    "language_info": {
      "name": "python"
    }
  },
  "cells": [
    {
      "cell_type": "code",
      "execution_count": 1,
      "metadata": {
        "colab": {
          "base_uri": "https://localhost:8080/"
        },
        "id": "MIBL0HabDiH6",
        "outputId": "ffb14963-bcc1-47c6-afed-e5ed45ac1860"
      },
      "outputs": [
        {
          "output_type": "stream",
          "name": "stdout",
          "text": [
            "Collecting pinecone[grpc]\n",
            "  Downloading pinecone-5.4.2-py3-none-any.whl.metadata (19 kB)\n",
            "Requirement already satisfied: certifi>=2019.11.17 in /usr/local/lib/python3.10/dist-packages (from pinecone[grpc]) (2024.12.14)\n",
            "Collecting pinecone-plugin-inference<4.0.0,>=2.0.0 (from pinecone[grpc])\n",
            "  Downloading pinecone_plugin_inference-3.1.0-py3-none-any.whl.metadata (2.2 kB)\n",
            "Collecting pinecone-plugin-interface<0.0.8,>=0.0.7 (from pinecone[grpc])\n",
            "  Downloading pinecone_plugin_interface-0.0.7-py3-none-any.whl.metadata (1.2 kB)\n",
            "Requirement already satisfied: python-dateutil>=2.5.3 in /usr/local/lib/python3.10/dist-packages (from pinecone[grpc]) (2.8.2)\n",
            "Requirement already satisfied: tqdm>=4.64.1 in /usr/local/lib/python3.10/dist-packages (from pinecone[grpc]) (4.67.1)\n",
            "Requirement already satisfied: typing-extensions>=3.7.4 in /usr/local/lib/python3.10/dist-packages (from pinecone[grpc]) (4.12.2)\n",
            "Requirement already satisfied: urllib3>=1.26.0 in /usr/local/lib/python3.10/dist-packages (from pinecone[grpc]) (2.2.3)\n",
            "Requirement already satisfied: googleapis-common-protos>=1.53.0 in /usr/local/lib/python3.10/dist-packages (from pinecone[grpc]) (1.66.0)\n",
            "Requirement already satisfied: grpcio>=1.44.0 in /usr/local/lib/python3.10/dist-packages (from pinecone[grpc]) (1.68.1)\n",
            "Collecting lz4>=3.1.3 (from pinecone[grpc])\n",
            "  Downloading lz4-4.3.3-cp310-cp310-manylinux_2_17_x86_64.manylinux2014_x86_64.whl.metadata (3.7 kB)\n",
            "Requirement already satisfied: protobuf<5.0,>=4.25 in /usr/local/lib/python3.10/dist-packages (from pinecone[grpc]) (4.25.5)\n",
            "Collecting protoc-gen-openapiv2<0.0.2,>=0.0.1 (from pinecone[grpc])\n",
            "  Downloading protoc_gen_openapiv2-0.0.1-py3-none-any.whl.metadata (1.5 kB)\n",
            "Requirement already satisfied: six>=1.5 in /usr/local/lib/python3.10/dist-packages (from python-dateutil>=2.5.3->pinecone[grpc]) (1.17.0)\n",
            "Downloading lz4-4.3.3-cp310-cp310-manylinux_2_17_x86_64.manylinux2014_x86_64.whl (1.3 MB)\n",
            "\u001b[2K   \u001b[90m━━━━━━━━━━━━━━━━━━━━━━━━━━━━━━━━━━━━━━━━\u001b[0m \u001b[32m1.3/1.3 MB\u001b[0m \u001b[31m26.0 MB/s\u001b[0m eta \u001b[36m0:00:00\u001b[0m\n",
            "\u001b[?25hDownloading pinecone_plugin_inference-3.1.0-py3-none-any.whl (87 kB)\n",
            "\u001b[2K   \u001b[90m━━━━━━━━━━━━━━━━━━━━━━━━━━━━━━━━━━━━━━━━\u001b[0m \u001b[32m87.5/87.5 kB\u001b[0m \u001b[31m7.0 MB/s\u001b[0m eta \u001b[36m0:00:00\u001b[0m\n",
            "\u001b[?25hDownloading pinecone_plugin_interface-0.0.7-py3-none-any.whl (6.2 kB)\n",
            "Downloading protoc_gen_openapiv2-0.0.1-py3-none-any.whl (7.9 kB)\n",
            "Downloading pinecone-5.4.2-py3-none-any.whl (427 kB)\n",
            "\u001b[2K   \u001b[90m━━━━━━━━━━━━━━━━━━━━━━━━━━━━━━━━━━━━━━━━\u001b[0m \u001b[32m427.3/427.3 kB\u001b[0m \u001b[31m20.6 MB/s\u001b[0m eta \u001b[36m0:00:00\u001b[0m\n",
            "\u001b[?25hInstalling collected packages: pinecone-plugin-interface, lz4, protoc-gen-openapiv2, pinecone-plugin-inference, pinecone\n",
            "Successfully installed lz4-4.3.3 pinecone-5.4.2 pinecone-plugin-inference-3.1.0 pinecone-plugin-interface-0.0.7 protoc-gen-openapiv2-0.0.1\n"
          ]
        }
      ],
      "source": [
        "!pip install \"pinecone[grpc]\"\n"
      ]
    },
    {
      "cell_type": "code",
      "source": [
        "!pip show pinecone\n"
      ],
      "metadata": {
        "colab": {
          "base_uri": "https://localhost:8080/"
        },
        "id": "tJw_vTI7Dqsf",
        "outputId": "494767dc-04ad-4690-9e9d-a709cc313220"
      },
      "execution_count": 2,
      "outputs": [
        {
          "output_type": "stream",
          "name": "stdout",
          "text": [
            "Name: pinecone\n",
            "Version: 5.4.2\n",
            "Summary: Pinecone client and SDK\n",
            "Home-page: https://www.pinecone.io\n",
            "Author: Pinecone Systems, Inc.\n",
            "Author-email: support@pinecone.io\n",
            "License: Apache-2.0\n",
            "Location: /usr/local/lib/python3.10/dist-packages\n",
            "Requires: certifi, pinecone-plugin-inference, pinecone-plugin-interface, python-dateutil, tqdm, typing-extensions, urllib3\n",
            "Required-by: \n"
          ]
        }
      ]
    },
    {
      "cell_type": "code",
      "source": [
        "from pinecone.grpc import PineconeGRPC as Pinecone\n",
        "\n",
        "pc = Pinecone(api_key=\"pcsk_5XxA9R_3vV1zsMvPjXyPjYer7HMG6o6gyrJgWoxVr986s72c219zMtftSzAaDBxNFszp1f\")\n"
      ],
      "metadata": {
        "id": "wJj5GnhwD7uP"
      },
      "execution_count": 3,
      "outputs": []
    },
    {
      "cell_type": "code",
      "source": [
        "from pinecone.grpc import PineconeGRPC as Pinecone\n",
        "from pinecone import ServerlessSpec\n",
        "\n",
        "pc = Pinecone(api_key=\"pcsk_5XxA9R_3vV1zsMvPjXyPjYer7HMG6o6gyrJgWoxVr986s72c219zMtftSzAaDBxNFszp1f\")\n",
        "\n",
        "pc.create_index(\n",
        "  name=\"example-index\",\n",
        "  dimension=1024,\n",
        "  metric=\"cosine\",\n",
        "  spec=ServerlessSpec(\n",
        "    cloud=\"aws\",\n",
        "    region=\"us-east-1\"\n",
        "  )\n",
        ")\n"
      ],
      "metadata": {
        "id": "93Wf6KKLEGVA"
      },
      "execution_count": 9,
      "outputs": []
    },
    {
      "cell_type": "code",
      "source": [
        "# Import the Pinecone library\n",
        "from pinecone.grpc import PineconeGRPC as Pinecone\n",
        "from pinecone import ServerlessSpec\n",
        "import time\n",
        "\n",
        "# Initialize a Pinecone client with your API key\n",
        "# pc = Pinecone(api_key=\"YOUR_API_KEY\")\n",
        "\n",
        "# Define a sample dataset where each item has a unique ID and piece of text\n",
        "data = [\n",
        "    {\"id\": \"vec1\", \"text\": \"Apple is a popular fruit known for its sweetness and crisp texture.\"},\n",
        "    {\"id\": \"vec2\", \"text\": \"The tech company Apple is known for its innovative products like the iPhone.\"},\n",
        "    {\"id\": \"vec3\", \"text\": \"Many people enjoy eating apples as a healthy snack.\"},\n",
        "    {\"id\": \"vec4\", \"text\": \"Apple Inc. has revolutionized the tech industry with its sleek designs and user-friendly interfaces.\"},\n",
        "    {\"id\": \"vec5\", \"text\": \"An apple a day keeps the doctor away, as the saying goes.\"},\n",
        "    {\"id\": \"vec6\", \"text\": \"Apple Computer Company was founded on April 1, 1976, by Steve Jobs, Steve Wozniak, and Ronald Wayne as a partnership.\"}\n",
        "]\n",
        "\n",
        "# Convert the text into numerical vectors that Pinecone can index\n",
        "embeddings = pc.inference.embed(\n",
        "    model=\"multilingual-e5-large\",\n",
        "    inputs=[d['text'] for d in data],\n",
        "    parameters={\"input_type\": \"passage\", \"truncate\": \"END\"}\n",
        ")\n",
        "\n",
        "print(embeddings)\n"
      ],
      "metadata": {
        "colab": {
          "base_uri": "https://localhost:8080/"
        },
        "id": "ojgRPcmlERl2",
        "outputId": "e34a3546-ffe4-4dcb-c7dd-708ee5a5be8c"
      },
      "execution_count": 10,
      "outputs": [
        {
          "output_type": "stream",
          "name": "stdout",
          "text": [
            "EmbeddingsList(\n",
            "  model='multilingual-e5-large',\n",
            "  vector_type='dense',\n",
            "  data=[\n",
            "    {'vector_type': dense, 'values': [0.04913330078125, -0.01306915283203125, ..., -0.0196990966796875, -0.0110321044921875]},\n",
            "    {'vector_type': dense, 'values': [0.032470703125, -0.027923583984375, ..., -0.020050048828125, -0.02099609375]},\n",
            "    ... (2 more embeddings) ...,\n",
            "    {'vector_type': dense, 'values': [0.0312347412109375, -0.0186309814453125, ..., -0.02996826171875, -0.033111572265625]},\n",
            "    {'vector_type': dense, 'values': [0.039520263671875, -0.00997161865234375, ..., 0.0011930465698242188, -0.042755126953125]}\n",
            "  ],\n",
            "  usage={'total_tokens': 130}\n",
            ")\n"
          ]
        }
      ]
    },
    {
      "cell_type": "code",
      "source": [
        "# Target the index where you'll store the vector embeddings\n",
        "index = pc.Index(\"example-index\")\n",
        "\n",
        "# Prepare the records for upsert\n",
        "# Each contains an 'id', the embedding 'values', and the original text as 'metadata'\n",
        "records = []\n",
        "for d, e in zip(data, embeddings):\n",
        "    records.append({\n",
        "        \"id\": d['id'],\n",
        "        \"values\": e['values'],\n",
        "        \"metadata\": {'text': d['text']}\n",
        "    })\n",
        "\n",
        "# Upsert the records into the index\n",
        "index.upsert(\n",
        "    vectors=records,\n",
        "    namespace=\"example-namespace\"\n",
        ")"
      ],
      "metadata": {
        "colab": {
          "base_uri": "https://localhost:8080/"
        },
        "id": "QObtQzPyEra3",
        "outputId": "7e8317ae-4cdd-4d81-80b7-72796e6167b5"
      },
      "execution_count": 11,
      "outputs": [
        {
          "output_type": "execute_result",
          "data": {
            "text/plain": [
              "upserted_count: 6"
            ]
          },
          "metadata": {},
          "execution_count": 11
        }
      ]
    },
    {
      "cell_type": "code",
      "source": [
        "# pc.describe_index(\"example-index\")"
      ],
      "metadata": {
        "colab": {
          "base_uri": "https://localhost:8080/"
        },
        "id": "LuLqFAFcExBd",
        "outputId": "a96fe65a-a1d9-4a65-ac19-b8881486e437"
      },
      "execution_count": 7,
      "outputs": [
        {
          "output_type": "execute_result",
          "data": {
            "text/plain": [
              "{\n",
              "    \"name\": \"example-index\",\n",
              "    \"dimension\": 1536,\n",
              "    \"metric\": \"cosine\",\n",
              "    \"host\": \"example-index-vjtbwwz.svc.aped-4627-b74a.pinecone.io\",\n",
              "    \"spec\": {\n",
              "        \"serverless\": {\n",
              "            \"cloud\": \"aws\",\n",
              "            \"region\": \"us-east-1\"\n",
              "        }\n",
              "    },\n",
              "    \"status\": {\n",
              "        \"ready\": true,\n",
              "        \"state\": \"Ready\"\n",
              "    },\n",
              "    \"deletion_protection\": \"disabled\"\n",
              "}"
            ]
          },
          "metadata": {},
          "execution_count": 7
        }
      ]
    },
    {
      "cell_type": "code",
      "source": [
        "# pc.delete_index(\"example-index\")\n"
      ],
      "metadata": {
        "id": "-TFDkLf-FRQb"
      },
      "execution_count": 8,
      "outputs": []
    },
    {
      "cell_type": "code",
      "source": [
        "# Define your query\n",
        "query = \"Tell me about the tech company known as Apple.\"\n",
        "\n",
        "# Convert the query into a numerical vector that Pinecone can search with\n",
        "query_embedding = pc.inference.embed(\n",
        "    model=\"multilingual-e5-large\",\n",
        "    inputs=[query],\n",
        "    parameters={\n",
        "        \"input_type\": \"query\"\n",
        "    }\n",
        ")\n",
        "\n",
        "# Search the index for the three most similar vectors\n",
        "results = index.query(\n",
        "    namespace=\"example-namespace\",\n",
        "    vector=query_embedding[0].values,\n",
        "    top_k=3,\n",
        "    include_values=False,\n",
        "    include_metadata=True\n",
        ")\n",
        "\n",
        "print(results)\n"
      ],
      "metadata": {
        "colab": {
          "base_uri": "https://localhost:8080/"
        },
        "id": "B1qZPkTHFjic",
        "outputId": "18a97259-4c24-4c4d-e6c5-0300bb6c35bc"
      },
      "execution_count": 12,
      "outputs": [
        {
          "output_type": "stream",
          "name": "stdout",
          "text": [
            "{'matches': [{'id': 'vec2',\n",
            "              'metadata': {'text': 'The tech company Apple is known for its '\n",
            "                                   'innovative products like the iPhone.'},\n",
            "              'score': 0.8727282,\n",
            "              'sparse_values': {'indices': [], 'values': []},\n",
            "              'values': []},\n",
            "             {'id': 'vec4',\n",
            "              'metadata': {'text': 'Apple Inc. has revolutionized the tech '\n",
            "                                   'industry with its sleek designs and '\n",
            "                                   'user-friendly interfaces.'},\n",
            "              'score': 0.85236675,\n",
            "              'sparse_values': {'indices': [], 'values': []},\n",
            "              'values': []},\n",
            "             {'id': 'vec6',\n",
            "              'metadata': {'text': 'Apple Computer Company was founded on '\n",
            "                                   'April 1, 1976, by Steve Jobs, Steve '\n",
            "                                   'Wozniak, and Ronald Wayne as a '\n",
            "                                   'partnership.'},\n",
            "              'score': 0.85015154,\n",
            "              'sparse_values': {'indices': [], 'values': []},\n",
            "              'values': []}],\n",
            " 'namespace': 'example-namespace',\n",
            " 'usage': {'read_units': 6}}\n"
          ]
        }
      ]
    },
    {
      "cell_type": "code",
      "source": [
        "print(results.matches[0].metadata['text'])"
      ],
      "metadata": {
        "colab": {
          "base_uri": "https://localhost:8080/"
        },
        "id": "CgD_ymzKICJl",
        "outputId": "0e47c8a2-17c6-4519-9e8c-ee061482593f"
      },
      "execution_count": 16,
      "outputs": [
        {
          "output_type": "stream",
          "name": "stdout",
          "text": [
            "The tech company Apple is known for its innovative products like the iPhone.\n"
          ]
        }
      ]
    },
    {
      "cell_type": "code",
      "source": [
        "print(results.matches[1].metadata['text'])"
      ],
      "metadata": {
        "colab": {
          "base_uri": "https://localhost:8080/"
        },
        "id": "LaLoyrBNIt0R",
        "outputId": "76b6f4ce-5902-4a49-f73b-5da0aa71b7bf"
      },
      "execution_count": 17,
      "outputs": [
        {
          "output_type": "stream",
          "name": "stdout",
          "text": [
            "Apple Inc. has revolutionized the tech industry with its sleek designs and user-friendly interfaces.\n"
          ]
        }
      ]
    },
    {
      "cell_type": "code",
      "source": [
        "print(results.matches[2].metadata['text'])"
      ],
      "metadata": {
        "colab": {
          "base_uri": "https://localhost:8080/"
        },
        "id": "-zZ16l0tJH6x",
        "outputId": "29dce07e-dc72-4f3d-e2b6-32e1e631208e"
      },
      "execution_count": 19,
      "outputs": [
        {
          "output_type": "stream",
          "name": "stdout",
          "text": [
            "Apple Computer Company was founded on April 1, 1976, by Steve Jobs, Steve Wozniak, and Ronald Wayne as a partnership.\n"
          ]
        }
      ]
    },
    {
      "cell_type": "code",
      "source": [],
      "metadata": {
        "id": "gqKPHkieJKNf"
      },
      "execution_count": null,
      "outputs": []
    }
  ]
}